{
  "nbformat": 4,
  "nbformat_minor": 0,
  "metadata": {
    "colab": {
      "provenance": []
    },
    "kernelspec": {
      "name": "python3",
      "display_name": "Python 3"
    },
    "language_info": {
      "name": "python"
    }
  },
  "cells": [
    {
      "cell_type": "code",
      "execution_count": null,
      "metadata": {
        "id": "hj-bGYuBXEs4"
      },
      "outputs": [],
      "source": [
        "# Načítanie knižníc\n",
        "import numpy as np\n",
        "from sklearn.decomposition import PCA\n",
        "from sklearn import preprocessing\n",
        "from sklearn.preprocessing import RobustScaler\n",
        "from sklearn.preprocessing import StandardScaler\n",
        "from sklearn.preprocessing import MinMaxScaler\n",
        "from sklearn import decomposition\n",
        "import matplotlib.pyplot as plt\n",
        "from sklearn.cluster import KMeans\n",
        "import csv\n",
        "from sklearn.metrics import silhouette_score\n",
        "\n",
        "# Preprocesing a načítanie dát\n",
        "def read_csv_file(file_path):\n",
        "    data = []\n",
        "    firstRow = True\n",
        "    with open(file_path, 'r') as file:\n",
        "        csv_reader = csv.reader(file)\n",
        "        for row in csv_reader:\n",
        "            if firstRow is True:\n",
        "                firstRow = False\n",
        "            else:\n",
        "                numerical_row = [float(value) for value in row[2:]]\n",
        "                data.append(numerical_row)\n",
        "    return data\n",
        "\n",
        "file_path = \"/content/sample_data/Data_prepared_final.csv\"\n",
        "data = read_csv_file(file_path)\n",
        "\n",
        "# štandartizácia\n",
        "Xscaler = MinMaxScaler()\n",
        "Xpp = Xscaler.fit_transform(data)\n",
        "\n",
        "# Inicializácia PCA s počtom komponentov rovným počtu parametrov\n",
        "pca = PCA()\n",
        "\n",
        "# Aplikácia PCA na dáta\n",
        "data_pca = pca.fit(Xpp)\n",
        "\n",
        "# Vysvetlená variancia\n",
        "explained_variance = pca.explained_variance_ratio_\n",
        "\n",
        "# Určíenie počtu zdrojov na základe prahu vysvetlenej variancie\n",
        "threshold = 0.95  # Prah: 95% vysvetlenej variancie\n",
        "cumulative_variance = np.cumsum(explained_variance)\n",
        "num_sources = np.argmax(cumulative_variance >= threshold) + 1\n",
        "\n",
        "print(\"Počet zdrojov:\", num_sources)\n",
        "\n",
        "# Vykreslenie grafu kumulatívnej vysvetlenej variance\n",
        "plt.plot(np.arange(1, 10), cumulative_variance, marker='o', linestyle='-')\n",
        "plt.xlabel('Počet komponentov')\n",
        "plt.ylabel('Kumulatívna vysvetlená variancia')\n",
        "plt.title('Kumulatívna vysvetlená variancia')\n",
        "plt.grid(True)\n",
        "plt.show()"
      ]
    },
    {
      "cell_type": "code",
      "source": [
        "# Aplikácia PCA pre 4 komponenty\n",
        "pca = PCA(n_components = 4)\n",
        "pca.fit(Xpp)\n",
        "data_pca_final = pca.transform(Xpp)"
      ],
      "metadata": {
        "id": "GuI3FIHdNNCW"
      },
      "execution_count": 3,
      "outputs": []
    },
    {
      "cell_type": "code",
      "source": [
        "# Silhouette metóda\n",
        "max_clusters = 20   # preddefinovaný maximálny počet clustrov\n",
        "silhouette_scores = []\n",
        "for n_clusters in range(2, max_clusters+1):\n",
        "        kmeans = KMeans(n_clusters=n_clusters, random_state=0)\n",
        "        cluster_labels = kmeans.fit_predict(data_pca_final)\n",
        "        silhouette_avg = silhouette_score(data_pca_final, cluster_labels)\n",
        "        silhouette_scores.append(silhouette_avg)\n",
        "        print(\"Calculating clusters: \" + str(n_clusters) + \"/\" + str(max_clusters + 1) + \" - Silhouette score: \" + str(silhouette_avg) + \" - Best: \" + str(np.argmax(silhouette_scores) + 2))\n",
        "\n",
        "    # Find the optimal number of clusters with the highest silhouette score\n",
        "optimal_clusters = np.argmax(silhouette_scores) + 2  # Add 2 because we started from 2 clusters\n",
        "\n",
        "# Nájdenie optimálneho počtu zhlukov\n",
        "\n",
        "print(\"Optimal number of clusters:\", optimal_clusters)\n",
        "print(\"Silhouette scores for different number of clusters:\", silhouette_scores)\n",
        "\n",
        "plt.figure(figsize=(8, 6))\n",
        "plt.plot(range(2, max_clusters+1), silhouette_scores, marker='o')\n",
        "plt.title('Silhouette metóda')\n",
        "plt.xlabel('Počet zhlukov')\n",
        "plt.ylabel('Silhouette skóre')\n",
        "plt.grid(True)\n",
        "plt.show()"
      ],
      "metadata": {
        "id": "W54ZWObe0l-m"
      },
      "execution_count": null,
      "outputs": []
    },
    {
      "cell_type": "code",
      "source": [
        "# Elbow metóda\n",
        "inertia = []\n",
        "for n_clusters in range(1, max_clusters+10):\n",
        "    kmeans = KMeans(n_clusters=n_clusters, random_state=42)\n",
        "    kmeans.fit(data_pca_final)\n",
        "    inertia.append(kmeans.inertia_)\n",
        "\n",
        "plt.plot(range(1, max_clusters+10), inertia, marker='o')\n",
        "plt.xlabel('Number of clusters')\n",
        "plt.ylabel('Inertia')\n",
        "plt.title('Elbow Method')\n",
        "plt.show()"
      ],
      "metadata": {
        "id": "KwojB3flpuZO"
      },
      "execution_count": null,
      "outputs": []
    }
  ]
}